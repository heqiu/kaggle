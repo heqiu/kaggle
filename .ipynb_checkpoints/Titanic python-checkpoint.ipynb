{
 "metadata": {
  "name": "",
  "signature": "sha256:419bff369b97bbf9c8769d8b959f1bb3cf12731baf053c5934658bdf6ea66002"
 },
 "nbformat": 3,
 "nbformat_minor": 0,
 "worksheets": [
  {
   "cells": [
    {
     "cell_type": "code",
     "collapsed": false,
     "input": [
      "import csv as csv\n",
      "import numpy as np"
     ],
     "language": "python",
     "metadata": {},
     "outputs": [],
     "prompt_number": 51
    },
    {
     "cell_type": "code",
     "collapsed": false,
     "input": [
      "# how we get our data\n",
      "csv_train = csv.reader(open('train.csv', 'rb'))\n",
      "header = csv_train.next()\n",
      "\n",
      "data = []\n",
      "#cycles through all rows\n",
      "for row in csv_train:\n",
      "    data.append(row)\n",
      "#convert from list to array.\n",
      "data = np.array(data)"
     ],
     "language": "python",
     "metadata": {},
     "outputs": [],
     "prompt_number": 52
    },
    {
     "cell_type": "code",
     "collapsed": false,
     "input": [
      "# see the first row\n",
      "print data[0]"
     ],
     "language": "python",
     "metadata": {},
     "outputs": [
      {
       "output_type": "stream",
       "stream": "stdout",
       "text": [
        "['1' '0' '3' 'Braund, Mr. Owen Harris' 'male' '22' '1' '0' 'A/5 21171'\n",
        " '7.25' '' 'S']\n"
       ]
      }
     ],
     "prompt_number": 53
    },
    {
     "cell_type": "code",
     "collapsed": false,
     "input": [
      "# see the last row\n",
      "print data[-1]"
     ],
     "language": "python",
     "metadata": {},
     "outputs": [
      {
       "output_type": "stream",
       "stream": "stdout",
       "text": [
        "['891' '0' '3' 'Dooley, Mr. Patrick' 'male' '32' '0' '0' '370376' '7.75' ''\n",
        " 'Q']\n"
       ]
      }
     ],
     "prompt_number": 54
    },
    {
     "cell_type": "code",
     "collapsed": false,
     "input": [
      "#see the first row, 4th column.  note that indices start at 0\n",
      "print data[0, 3]\n"
     ],
     "language": "python",
     "metadata": {},
     "outputs": [
      {
       "output_type": "stream",
       "stream": "stdout",
       "text": [
        "Braund, Mr. Owen Harris\n"
       ]
      }
     ],
     "prompt_number": 55
    },
    {
     "cell_type": "code",
     "collapsed": false,
     "input": [
      "# see the genders of everyone.  note that 0:: indicates from start to finish\n",
      "data[0::, 4] "
     ],
     "language": "python",
     "metadata": {},
     "outputs": [
      {
       "metadata": {},
       "output_type": "pyout",
       "prompt_number": 56,
       "text": [
        "array(['male', 'female', 'female', 'female', 'male', 'male', 'male',\n",
        "       'male', 'female', 'female', 'female', 'female', 'male', 'male',\n",
        "       'female', 'female', 'male', 'male', 'female', 'female', 'male',\n",
        "       'male', 'female', 'male', 'female', 'female', 'male', 'male',\n",
        "       'female', 'male', 'male', 'female', 'female', 'male', 'male',\n",
        "       'male', 'male', 'male', 'female', 'female', 'female', 'female',\n",
        "       'male', 'female', 'female', 'male', 'male', 'female', 'male',\n",
        "       'female', 'male', 'male', 'female', 'female', 'male', 'male',\n",
        "       'female', 'male', 'female', 'male', 'male', 'female', 'male',\n",
        "       'male', 'male', 'male', 'female', 'male', 'female', 'male', 'male',\n",
        "       'female', 'male', 'male', 'male', 'male', 'male', 'male', 'male',\n",
        "       'female', 'male', 'male', 'female', 'male', 'female', 'female',\n",
        "       'male', 'male', 'female', 'male', 'male', 'male', 'male', 'male',\n",
        "       'male', 'male', 'male', 'male', 'female', 'male', 'female', 'male',\n",
        "       'male', 'male', 'male', 'male', 'female', 'male', 'male', 'female',\n",
        "       'male', 'female', 'male', 'female', 'female', 'male', 'male',\n",
        "       'male', 'male', 'female', 'male', 'male', 'male', 'female', 'male',\n",
        "       'male', 'male', 'male', 'female', 'male', 'male', 'male', 'female',\n",
        "       'female', 'male', 'male', 'female', 'male', 'male', 'male',\n",
        "       'female', 'female', 'female', 'male', 'male', 'male', 'male',\n",
        "       'female', 'male', 'male', 'male', 'female', 'male', 'male', 'male',\n",
        "       'male', 'female', 'male', 'male', 'male', 'male', 'female', 'male',\n",
        "       'male', 'male', 'male', 'female', 'female', 'male', 'male', 'male',\n",
        "       'male', 'female', 'male', 'male', 'male', 'male', 'female', 'male',\n",
        "       'male', 'female', 'male', 'male', 'male', 'female', 'male',\n",
        "       'female', 'male', 'male', 'male', 'female', 'male', 'female',\n",
        "       'male', 'female', 'female', 'male', 'male', 'female', 'female',\n",
        "       'male', 'male', 'male', 'male', 'male', 'female', 'male', 'male',\n",
        "       'female', 'male', 'male', 'female', 'male', 'male', 'male',\n",
        "       'female', 'female', 'male', 'female', 'male', 'male', 'male',\n",
        "       'male', 'male', 'male', 'male', 'male', 'male', 'male', 'female',\n",
        "       'female', 'male', 'male', 'female', 'male', 'female', 'male',\n",
        "       'female', 'male', 'male', 'female', 'female', 'male', 'male',\n",
        "       'male', 'male', 'female', 'female', 'male', 'male', 'male',\n",
        "       'female', 'male', 'male', 'female', 'female', 'female', 'female',\n",
        "       'female', 'female', 'male', 'male', 'male', 'male', 'female',\n",
        "       'male', 'male', 'male', 'female', 'female', 'male', 'male',\n",
        "       'female', 'male', 'female', 'female', 'female', 'male', 'male',\n",
        "       'female', 'male', 'male', 'male', 'male', 'male', 'male', 'male',\n",
        "       'male', 'male', 'female', 'female', 'female', 'male', 'female',\n",
        "       'male', 'male', 'male', 'female', 'male', 'female', 'female',\n",
        "       'male', 'male', 'female', 'male', 'male', 'female', 'female',\n",
        "       'male', 'female', 'female', 'female', 'female', 'male', 'male',\n",
        "       'female', 'female', 'male', 'female', 'female', 'male', 'male',\n",
        "       'female', 'female', 'male', 'female', 'male', 'female', 'female',\n",
        "       'female', 'female', 'male', 'male', 'male', 'female', 'male',\n",
        "       'male', 'female', 'male', 'male', 'male', 'female', 'male', 'male',\n",
        "       'male', 'female', 'female', 'female', 'male', 'male', 'male',\n",
        "       'male', 'male', 'male', 'male', 'male', 'female', 'female',\n",
        "       'female', 'female', 'male', 'male', 'female', 'male', 'male',\n",
        "       'male', 'female', 'female', 'female', 'female', 'male', 'male',\n",
        "       'male', 'male', 'female', 'female', 'female', 'male', 'male',\n",
        "       'male', 'female', 'female', 'male', 'female', 'male', 'male',\n",
        "       'male', 'female', 'male', 'female', 'male', 'male', 'male',\n",
        "       'female', 'female', 'male', 'female', 'male', 'male', 'female',\n",
        "       'male', 'male', 'female', 'male', 'female', 'male', 'male', 'male',\n",
        "       'male', 'female', 'male', 'male', 'female', 'male', 'male',\n",
        "       'female', 'female', 'female', 'male', 'female', 'male', 'male',\n",
        "       'male', 'female', 'male', 'male', 'female', 'female', 'male',\n",
        "       'male', 'male', 'female', 'female', 'male', 'male', 'female',\n",
        "       'female', 'female', 'male', 'male', 'female', 'male', 'male',\n",
        "       'female', 'male', 'male', 'female', 'male', 'female', 'male',\n",
        "       'male', 'male', 'male', 'male', 'male', 'male', 'male', 'female',\n",
        "       'female', 'male', 'male', 'male', 'male', 'male', 'male', 'male',\n",
        "       'male', 'male', 'male', 'female', 'male', 'male', 'female',\n",
        "       'female', 'female', 'male', 'male', 'male', 'male', 'female',\n",
        "       'male', 'male', 'male', 'female', 'male', 'female', 'female',\n",
        "       'male', 'male', 'male', 'male', 'male', 'male', 'male', 'male',\n",
        "       'male', 'female', 'male', 'female', 'male', 'male', 'female',\n",
        "       'female', 'female', 'female', 'male', 'female', 'male', 'male',\n",
        "       'male', 'male', 'male', 'male', 'female', 'male', 'male', 'female',\n",
        "       'male', 'female', 'male', 'female', 'male', 'male', 'female',\n",
        "       'male', 'male', 'female', 'male', 'male', 'male', 'female', 'male',\n",
        "       'male', 'female', 'female', 'female', 'male', 'female', 'male',\n",
        "       'female', 'female', 'female', 'female', 'male', 'male', 'male',\n",
        "       'female', 'male', 'male', 'male', 'male', 'male', 'male', 'male',\n",
        "       'female', 'male', 'female', 'male', 'female', 'female', 'male',\n",
        "       'male', 'male', 'male', 'female', 'male', 'male', 'female', 'male',\n",
        "       'male', 'male', 'female', 'male', 'female', 'male', 'male',\n",
        "       'female', 'female', 'female', 'male', 'female', 'female', 'male',\n",
        "       'male', 'male', 'female', 'male', 'male', 'male', 'male', 'male',\n",
        "       'female', 'male', 'female', 'male', 'male', 'female', 'male',\n",
        "       'male', 'male', 'female', 'male', 'male', 'male', 'male', 'male',\n",
        "       'male', 'male', 'female', 'female', 'female', 'male', 'female',\n",
        "       'male', 'male', 'female', 'male', 'female', 'female', 'male',\n",
        "       'male', 'male', 'male', 'male', 'male', 'male', 'male', 'female',\n",
        "       'male', 'male', 'male', 'male', 'male', 'male', 'female', 'female',\n",
        "       'male', 'male', 'female', 'male', 'male', 'female', 'female',\n",
        "       'male', 'female', 'male', 'male', 'male', 'male', 'female', 'male',\n",
        "       'female', 'male', 'female', 'female', 'male', 'male', 'female',\n",
        "       'male', 'male', 'male', 'male', 'male', 'male', 'male', 'male',\n",
        "       'male', 'male', 'male', 'female', 'female', 'male', 'male', 'male',\n",
        "       'male', 'male', 'male', 'female', 'female', 'male', 'female',\n",
        "       'male', 'male', 'male', 'male', 'male', 'male', 'male', 'male',\n",
        "       'female', 'male', 'female', 'male', 'male', 'male', 'male', 'male',\n",
        "       'female', 'male', 'male', 'female', 'male', 'female', 'male',\n",
        "       'male', 'male', 'female', 'male', 'female', 'male', 'female',\n",
        "       'male', 'male', 'male', 'male', 'male', 'female', 'female', 'male',\n",
        "       'male', 'female', 'male', 'male', 'male', 'male', 'male', 'female',\n",
        "       'female', 'male', 'female', 'female', 'male', 'male', 'male',\n",
        "       'male', 'male', 'female', 'male', 'male', 'male', 'male', 'male',\n",
        "       'female', 'male', 'male', 'male', 'male', 'female', 'male', 'male',\n",
        "       'female', 'male', 'male', 'male', 'female', 'male', 'male', 'male',\n",
        "       'male', 'female', 'male', 'male', 'male', 'female', 'male',\n",
        "       'female', 'male', 'female', 'male', 'male', 'male', 'male',\n",
        "       'female', 'male', 'female', 'male', 'male', 'female', 'male',\n",
        "       'female', 'female', 'female', 'male', 'male', 'male', 'male',\n",
        "       'female', 'male', 'male', 'male', 'male', 'male', 'female', 'male',\n",
        "       'male', 'male', 'female', 'female', 'male', 'female', 'male',\n",
        "       'female', 'male', 'male', 'male', 'male', 'male', 'female', 'male',\n",
        "       'female', 'male', 'male', 'male', 'female', 'male', 'male',\n",
        "       'female', 'male', 'male', 'male', 'female', 'male', 'male',\n",
        "       'female', 'male', 'male', 'male', 'male', 'male', 'female',\n",
        "       'female', 'male', 'male', 'male', 'male', 'female', 'male', 'male',\n",
        "       'male', 'male', 'male', 'male', 'female', 'male', 'male', 'male',\n",
        "       'male', 'male', 'male', 'female', 'male', 'male', 'female',\n",
        "       'female', 'female', 'female', 'female', 'male', 'female', 'male',\n",
        "       'male', 'male', 'female', 'female', 'male', 'female', 'female',\n",
        "       'male', 'male', 'male', 'male', 'female', 'male', 'male', 'female',\n",
        "       'female', 'male', 'male', 'male', 'female', 'female', 'male',\n",
        "       'female', 'male', 'male', 'female', 'male', 'female', 'female',\n",
        "       'male', 'male'], \n",
        "      dtype='|S82')"
       ]
      }
     ],
     "prompt_number": 56
    },
    {
     "cell_type": "code",
     "collapsed": false,
     "input": [
      "# note that by default, everything is a string, which we need to convert to ints\n",
      "data[0::,2]\n",
      "data[0::,2].astype(np.int)"
     ],
     "language": "python",
     "metadata": {},
     "outputs": [
      {
       "metadata": {},
       "output_type": "pyout",
       "prompt_number": 57,
       "text": [
        "array([3, 1, 3, 1, 3, 3, 1, 3, 3, 2, 3, 1, 3, 3, 3, 2, 3, 2, 3, 3, 2, 2, 3,\n",
        "       1, 3, 3, 3, 1, 3, 3, 1, 1, 3, 2, 1, 1, 3, 3, 3, 3, 3, 2, 3, 2, 3, 3,\n",
        "       3, 3, 3, 3, 3, 3, 1, 2, 1, 1, 2, 3, 2, 3, 3, 1, 1, 3, 1, 3, 2, 3, 3,\n",
        "       3, 2, 3, 2, 3, 3, 3, 3, 3, 2, 3, 3, 3, 3, 1, 2, 3, 3, 3, 1, 3, 3, 3,\n",
        "       1, 3, 3, 3, 1, 1, 2, 2, 3, 3, 1, 3, 3, 3, 3, 3, 3, 3, 1, 3, 3, 3, 3,\n",
        "       3, 3, 2, 1, 3, 2, 3, 2, 2, 1, 3, 3, 3, 3, 3, 3, 3, 3, 2, 2, 2, 1, 1,\n",
        "       3, 1, 3, 3, 3, 3, 2, 2, 3, 3, 2, 2, 2, 1, 3, 3, 3, 1, 3, 3, 3, 3, 3,\n",
        "       2, 3, 3, 3, 3, 1, 3, 1, 3, 1, 3, 3, 3, 1, 3, 3, 1, 2, 3, 3, 2, 3, 2,\n",
        "       3, 1, 3, 1, 3, 3, 2, 2, 3, 2, 1, 1, 3, 3, 3, 2, 3, 3, 3, 3, 3, 3, 3,\n",
        "       3, 3, 1, 3, 2, 3, 2, 3, 1, 3, 2, 1, 2, 3, 2, 3, 3, 1, 3, 2, 3, 2, 3,\n",
        "       1, 3, 2, 3, 2, 3, 2, 2, 2, 2, 3, 3, 2, 3, 3, 1, 3, 2, 1, 2, 3, 3, 1,\n",
        "       3, 3, 3, 1, 1, 1, 2, 3, 3, 1, 1, 3, 2, 3, 3, 1, 1, 1, 3, 2, 1, 3, 1,\n",
        "       3, 2, 3, 3, 3, 3, 3, 3, 1, 3, 3, 3, 2, 3, 1, 1, 2, 3, 3, 1, 3, 1, 1,\n",
        "       1, 3, 3, 3, 2, 3, 1, 1, 1, 2, 1, 1, 1, 2, 3, 2, 3, 2, 2, 1, 1, 3, 3,\n",
        "       2, 2, 3, 1, 3, 2, 3, 1, 3, 1, 1, 3, 1, 3, 1, 1, 3, 1, 2, 1, 2, 2, 2,\n",
        "       2, 2, 3, 3, 3, 3, 1, 3, 3, 3, 3, 1, 2, 3, 3, 3, 2, 3, 3, 3, 3, 1, 3,\n",
        "       3, 1, 1, 3, 3, 1, 3, 1, 3, 1, 3, 3, 1, 3, 3, 1, 3, 2, 3, 2, 3, 2, 1,\n",
        "       3, 3, 1, 3, 3, 3, 2, 2, 2, 3, 3, 3, 3, 3, 2, 3, 2, 3, 3, 3, 3, 1, 2,\n",
        "       3, 3, 2, 2, 2, 3, 3, 3, 3, 3, 3, 3, 2, 2, 3, 3, 1, 3, 2, 3, 1, 1, 3,\n",
        "       2, 1, 2, 2, 3, 3, 2, 3, 1, 2, 1, 3, 1, 2, 3, 1, 1, 3, 3, 1, 1, 2, 3,\n",
        "       1, 3, 1, 2, 3, 3, 2, 1, 3, 3, 3, 3, 2, 2, 3, 1, 2, 3, 3, 3, 3, 2, 3,\n",
        "       3, 1, 3, 1, 1, 3, 3, 3, 3, 1, 1, 3, 3, 1, 3, 1, 3, 3, 3, 3, 3, 1, 1,\n",
        "       2, 1, 3, 3, 3, 3, 1, 1, 3, 1, 2, 3, 2, 3, 1, 3, 3, 1, 3, 3, 2, 1, 3,\n",
        "       2, 2, 3, 3, 3, 3, 2, 1, 1, 3, 1, 1, 3, 3, 2, 1, 1, 2, 2, 3, 2, 1, 2,\n",
        "       3, 3, 3, 1, 1, 1, 1, 3, 3, 3, 2, 3, 3, 3, 3, 3, 3, 3, 2, 1, 1, 3, 3,\n",
        "       3, 2, 1, 3, 3, 2, 1, 2, 1, 3, 1, 2, 1, 3, 3, 3, 1, 3, 3, 2, 3, 2, 3,\n",
        "       3, 1, 2, 3, 1, 3, 1, 3, 3, 1, 2, 1, 3, 3, 3, 3, 3, 2, 3, 3, 2, 2, 3,\n",
        "       1, 3, 3, 3, 1, 2, 1, 3, 3, 1, 3, 1, 1, 3, 2, 3, 2, 3, 3, 3, 1, 3, 3,\n",
        "       3, 1, 3, 1, 3, 3, 3, 2, 3, 3, 3, 2, 3, 3, 2, 1, 1, 3, 1, 3, 3, 2, 2,\n",
        "       3, 3, 1, 2, 1, 2, 2, 2, 3, 3, 3, 3, 1, 3, 1, 3, 3, 2, 2, 3, 3, 3, 1,\n",
        "       1, 3, 3, 3, 1, 2, 3, 3, 1, 3, 1, 1, 3, 3, 3, 2, 2, 1, 1, 3, 1, 1, 1,\n",
        "       3, 2, 3, 1, 2, 3, 3, 2, 3, 2, 2, 1, 3, 2, 3, 2, 3, 1, 3, 2, 2, 2, 3,\n",
        "       3, 1, 3, 3, 1, 1, 1, 3, 3, 1, 3, 2, 1, 3, 2, 3, 3, 3, 2, 2, 3, 2, 3,\n",
        "       1, 3, 3, 3, 1, 3, 1, 1, 3, 3, 3, 3, 3, 2, 3, 2, 3, 3, 3, 3, 1, 3, 1,\n",
        "       1, 3, 3, 3, 3, 3, 3, 1, 3, 2, 3, 1, 3, 2, 1, 3, 3, 3, 2, 2, 1, 3, 3,\n",
        "       3, 1, 3, 2, 1, 3, 3, 2, 3, 3, 1, 3, 2, 3, 3, 1, 3, 1, 3, 3, 3, 3, 2,\n",
        "       3, 1, 3, 2, 3, 3, 3, 1, 3, 3, 3, 1, 3, 2, 1, 3, 3, 3, 3, 3, 2, 1, 3,\n",
        "       3, 3, 1, 2, 3, 1, 1, 3, 3, 3, 2, 1, 3, 2, 2, 2, 1, 3, 3, 3, 1, 1, 3,\n",
        "       2, 3, 3, 3, 3, 1, 2, 3, 3, 2, 3, 3, 2, 1, 3, 1, 3])"
       ]
      }
     ],
     "prompt_number": 57
    },
    {
     "cell_type": "code",
     "collapsed": false,
     "input": [
      "#size counts the numbers of elements are in a particular array.  \n",
      "numPassengers = np.size(data[0::, 1].astype(np.float))\n",
      "numSurvived = np.sum(data[0::,1].astype(np.float))\n",
      "ratioSurvived = numSurvived/numPassengers\n",
      "ratioSurvived\n",
      "\n",
      "\n"
     ],
     "language": "python",
     "metadata": {},
     "outputs": [
      {
       "metadata": {},
       "output_type": "pyout",
       "prompt_number": 58,
       "text": [
        "0.38383838383838381"
       ]
      }
     ],
     "prompt_number": 58
    },
    {
     "cell_type": "code",
     "collapsed": false,
     "input": [
      "#finds all elements in gender column that equals \"female\".  similar, if not identical to the filter matrix\n",
      "women_only_stats = data[0::,4] == \"female\" \n",
      "men_only_stats = data[0::,4] != \"female\"  \n",
      "print women_only_stats\n",
      "\n"
     ],
     "language": "python",
     "metadata": {},
     "outputs": [
      {
       "output_type": "stream",
       "stream": "stdout",
       "text": [
        "[False  True  True  True False False False False  True  True  True  True\n",
        " False False  True  True False False  True  True False False  True False\n",
        "  True  True False False  True False False  True  True False False False\n",
        " False False  True  True  True  True False  True  True False False  True\n",
        " False  True False False  True  True False False  True False  True False\n",
        " False  True False False False False  True False  True False False  True\n",
        " False False False False False False False  True False False  True False\n",
        "  True  True False False  True False False False False False False False\n",
        " False False  True False  True False False False False False  True False\n",
        " False  True False  True False  True  True False False False False  True\n",
        " False False False  True False False False False  True False False False\n",
        "  True  True False False  True False False False  True  True  True False\n",
        " False False False  True False False False  True False False False False\n",
        "  True False False False False  True False False False False  True  True\n",
        " False False False False  True False False False False  True False False\n",
        "  True False False False  True False  True False False False  True False\n",
        "  True False  True  True False False  True  True False False False False\n",
        " False  True False False  True False False  True False False False  True\n",
        "  True False  True False False False False False False False False False\n",
        " False  True  True False False  True False  True False  True False False\n",
        "  True  True False False False False  True  True False False False  True\n",
        " False False  True  True  True  True  True  True False False False False\n",
        "  True False False False  True  True False False  True False  True  True\n",
        "  True False False  True False False False False False False False False\n",
        " False  True  True  True False  True False False False  True False  True\n",
        "  True False False  True False False  True  True False  True  True  True\n",
        "  True False False  True  True False  True  True False False  True  True\n",
        " False  True False  True  True  True  True False False False  True False\n",
        " False  True False False False  True False False False  True  True  True\n",
        " False False False False False False False False  True  True  True  True\n",
        " False False  True False False False  True  True  True  True False False\n",
        " False False  True  True  True False False False  True  True False  True\n",
        " False False False  True False  True False False False  True  True False\n",
        "  True False False  True False False  True False  True False False False\n",
        " False  True False False  True False False  True  True  True False  True\n",
        " False False False  True False False  True  True False False False  True\n",
        "  True False False  True  True  True False False  True False False  True\n",
        " False False  True False  True False False False False False False False\n",
        " False  True  True False False False False False False False False False\n",
        " False  True False False  True  True  True False False False False  True\n",
        " False False False  True False  True  True False False False False False\n",
        " False False False False  True False  True False False  True  True  True\n",
        "  True False  True False False False False False False  True False False\n",
        "  True False  True False  True False False  True False False  True False\n",
        " False False  True False False  True  True  True False  True False  True\n",
        "  True  True  True False False False  True False False False False False\n",
        " False False  True False  True False  True  True False False False False\n",
        "  True False False  True False False False  True False  True False False\n",
        "  True  True  True False  True  True False False False  True False False\n",
        " False False False  True False  True False False  True False False False\n",
        "  True False False False False False False False  True  True  True False\n",
        "  True False False  True False  True  True False False False False False\n",
        " False False False  True False False False False False False  True  True\n",
        " False False  True False False  True  True False  True False False False\n",
        " False  True False  True False  True  True False False  True False False\n",
        " False False False False False False False False False  True  True False\n",
        " False False False False False  True  True False  True False False False\n",
        " False False False False False  True False  True False False False False\n",
        " False  True False False  True False  True False False False  True False\n",
        "  True False  True False False False False False  True  True False False\n",
        "  True False False False False False  True  True False  True  True False\n",
        " False False False False  True False False False False False  True False\n",
        " False False False  True False False  True False False False  True False\n",
        " False False False  True False False False  True False  True False  True\n",
        " False False False False  True False  True False False  True False  True\n",
        "  True  True False False False False  True False False False False False\n",
        "  True False False False  True  True False  True False  True False False\n",
        " False False False  True False  True False False False  True False False\n",
        "  True False False False  True False False  True False False False False\n",
        " False  True  True False False False False  True False False False False\n",
        " False False  True False False False False False False  True False False\n",
        "  True  True  True  True  True False  True False False False  True  True\n",
        " False  True  True False False False False  True False False  True  True\n",
        " False False False  True  True False  True False False  True False  True\n",
        "  True False False]\n"
       ]
      }
     ],
     "prompt_number": 59
    },
    {
     "cell_type": "code",
     "collapsed": false,
     "input": [
      "women_onboard = data[women_only_stats,1].astype(np.float)     \n",
      "men_onboard = data[men_only_stats,1].astype(np.float)\n",
      "print women_onboard\n"
     ],
     "language": "python",
     "metadata": {},
     "outputs": [
      {
       "output_type": "stream",
       "stream": "stdout",
       "text": [
        "[ 1.  1.  1.  1.  1.  1.  1.  0.  1.  0.  1.  1.  0.  1.  1.  1.  1.  0.\n",
        "  1.  0.  0.  1.  1.  1.  0.  1.  1.  1.  1.  1.  1.  1.  0.  1.  1.  1.\n",
        "  1.  1.  1.  0.  1.  1.  0.  0.  0.  0.  1.  1.  0.  1.  1.  0.  1.  1.\n",
        "  0.  1.  1.  1.  1.  0.  1.  0.  0.  1.  1.  1.  1.  1.  1.  1.  0.  0.\n",
        "  1.  1.  1.  1.  1.  0.  1.  1.  0.  1.  0.  1.  0.  1.  0.  0.  1.  1.\n",
        "  1.  1.  1.  0.  1.  1.  1.  1.  1.  0.  1.  1.  1.  1.  0.  0.  1.  1.\n",
        "  1.  1.  1.  1.  1.  1.  0.  1.  1.  1.  1.  1.  1.  1.  1.  1.  1.  1.\n",
        "  1.  1.  1.  1.  1.  1.  1.  0.  1.  1.  0.  1.  1.  1.  1.  0.  1.  1.\n",
        "  1.  1.  1.  1.  1.  1.  1.  0.  1.  0.  0.  0.  1.  0.  1.  1.  0.  0.\n",
        "  1.  1.  1.  1.  1.  0.  1.  1.  1.  1.  1.  1.  1.  1.  1.  1.  0.  1.\n",
        "  1.  0.  1.  1.  0.  0.  0.  0.  1.  1.  1.  1.  1.  1.  1.  1.  1.  1.\n",
        "  0.  1.  1.  1.  1.  0.  0.  1.  1.  1.  1.  1.  0.  0.  1.  1.  1.  1.\n",
        "  0.  1.  1.  1.  1.  0.  1.  1.  1.  1.  0.  1.  1.  0.  1.  1.  0.  1.\n",
        "  0.  1.  0.  1.  1.  1.  1.  0.  0.  1.  1.  1.  0.  0.  1.  1.  1.  1.\n",
        "  0.  1.  1.  1.  1.  1.  1.  1.  1.  0.  1.  0.  1.  1.  1.  1.  1.  1.\n",
        "  1.  0.  0.  1.  1.  1.  1.  1.  1.  0.  1.  1.  0.  1.  0.  1.  0.  0.\n",
        "  1.  1.  1.  1.  1.  1.  1.  0.  1.  0.  1.  1.  1.  1.  0.  1.  1.  1.\n",
        "  1.  1.  1.  1.  0.  0.  1.  0.]\n"
       ]
      }
     ],
     "prompt_number": 60
    },
    {
     "cell_type": "code",
     "collapsed": false,
     "input": [
      "ratioWomenSurvived = np.sum(women_onboard)/np.size(women_onboard)\n",
      "ratioMenSurvived = np.sum(men_onboard)/np.size(men_onboard)\n",
      "\n",
      "print 'ratio of female survivors is %s' %ratioWomenSurvived\n",
      "print 'ratio of male survivors is %s' %ratioMenSurvived"
     ],
     "language": "python",
     "metadata": {},
     "outputs": [
      {
       "output_type": "stream",
       "stream": "stdout",
       "text": [
        "ratio of female survivors is 0.742038216561\n",
        "ratio of male survivors is 0.188908145581\n"
       ]
      }
     ],
     "prompt_number": 61
    },
    {
     "cell_type": "code",
     "collapsed": false,
     "input": [
      "test_file = open('test.csv', 'rb')\n",
      "test_file_object = csv.reader(test_file)\n",
      "header = test_file_object.next()"
     ],
     "language": "python",
     "metadata": {},
     "outputs": [],
     "prompt_number": 64
    },
    {
     "cell_type": "code",
     "collapsed": false,
     "input": [],
     "language": "python",
     "metadata": {},
     "outputs": [],
     "prompt_number": 62
    },
    {
     "cell_type": "code",
     "collapsed": false,
     "input": [
      "prediction_file = open(\"genderbasedmodel.csv\", \"wb\")\n",
      "prediction_file_object = csv.writer(prediction_file)\n"
     ],
     "language": "python",
     "metadata": {},
     "outputs": [],
     "prompt_number": 63
    },
    {
     "cell_type": "code",
     "collapsed": false,
     "input": [
      "#this model predicts that all females survived, while all males died.  this is going to be our gender-class model\n",
      "\n",
      "prediction_file_object.writerow([\"PassengerId\", \"Survived\"])\n",
      "for row in test_file_object:       # For each row in test.csv\n",
      "    if row[3] == 'female':         # is it a female, if yes then                                       \n",
      "        prediction_file_object.writerow([row[0],'1'])    # predict 1\n",
      "    else:                              # or else if male,       \n",
      "        prediction_file_object.writerow([row[0],'0'])    # predict 0\n",
      "test_file.close()\n",
      "prediction_file.close()"
     ],
     "language": "python",
     "metadata": {},
     "outputs": [],
     "prompt_number": 65
    },
    {
     "cell_type": "code",
     "collapsed": false,
     "input": [],
     "language": "python",
     "metadata": {},
     "outputs": []
    },
    {
     "cell_type": "code",
     "collapsed": false,
     "input": [],
     "language": "python",
     "metadata": {},
     "outputs": []
    },
    {
     "cell_type": "code",
     "collapsed": false,
     "input": [],
     "language": "python",
     "metadata": {},
     "outputs": []
    },
    {
     "cell_type": "code",
     "collapsed": false,
     "input": [],
     "language": "python",
     "metadata": {},
     "outputs": []
    },
    {
     "cell_type": "code",
     "collapsed": false,
     "input": [],
     "language": "python",
     "metadata": {},
     "outputs": []
    },
    {
     "cell_type": "code",
     "collapsed": false,
     "input": [],
     "language": "python",
     "metadata": {},
     "outputs": []
    },
    {
     "cell_type": "code",
     "collapsed": false,
     "input": [],
     "language": "python",
     "metadata": {},
     "outputs": []
    },
    {
     "cell_type": "code",
     "collapsed": false,
     "input": [],
     "language": "python",
     "metadata": {},
     "outputs": []
    },
    {
     "cell_type": "code",
     "collapsed": false,
     "input": [],
     "language": "python",
     "metadata": {},
     "outputs": []
    },
    {
     "cell_type": "code",
     "collapsed": false,
     "input": [],
     "language": "python",
     "metadata": {},
     "outputs": []
    },
    {
     "cell_type": "code",
     "collapsed": false,
     "input": [],
     "language": "python",
     "metadata": {},
     "outputs": []
    },
    {
     "cell_type": "code",
     "collapsed": false,
     "input": [],
     "language": "python",
     "metadata": {},
     "outputs": []
    },
    {
     "cell_type": "code",
     "collapsed": false,
     "input": [],
     "language": "python",
     "metadata": {},
     "outputs": []
    },
    {
     "cell_type": "code",
     "collapsed": false,
     "input": [],
     "language": "python",
     "metadata": {},
     "outputs": []
    },
    {
     "cell_type": "code",
     "collapsed": false,
     "input": [],
     "language": "python",
     "metadata": {},
     "outputs": []
    },
    {
     "cell_type": "code",
     "collapsed": false,
     "input": [],
     "language": "python",
     "metadata": {},
     "outputs": []
    },
    {
     "cell_type": "code",
     "collapsed": false,
     "input": [],
     "language": "python",
     "metadata": {},
     "outputs": []
    },
    {
     "cell_type": "code",
     "collapsed": false,
     "input": [],
     "language": "python",
     "metadata": {},
     "outputs": []
    },
    {
     "cell_type": "code",
     "collapsed": false,
     "input": [],
     "language": "python",
     "metadata": {},
     "outputs": []
    },
    {
     "cell_type": "code",
     "collapsed": false,
     "input": [],
     "language": "python",
     "metadata": {},
     "outputs": []
    },
    {
     "cell_type": "code",
     "collapsed": false,
     "input": [],
     "language": "python",
     "metadata": {},
     "outputs": []
    }
   ],
   "metadata": {}
  }
 ]
}